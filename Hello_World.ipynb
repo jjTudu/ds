{
  "nbformat": 4,
  "nbformat_minor": 0,
  "metadata": {
    "colab": {
      "name": "Hello World.ipynb",
      "private_outputs": true,
      "provenance": [],
      "collapsed_sections": [],
      "authorship_tag": "ABX9TyMnqNquuQiTz6UVIEkMxBUY",
      "include_colab_link": true
    },
    "kernelspec": {
      "name": "python3",
      "display_name": "Python 3"
    },
    "language_info": {
      "name": "python"
    }
  },
  "cells": [
    {
      "cell_type": "markdown",
      "metadata": {
        "id": "view-in-github",
        "colab_type": "text"
      },
      "source": [
        "<a href=\"https://colab.research.google.com/github/jjTudu/ds/blob/main/Hello_World.ipynb\" target=\"_parent\"><img src=\"https://colab.research.google.com/assets/colab-badge.svg\" alt=\"Open In Colab\"/></a>"
      ]
    },
    {
      "cell_type": "code",
      "metadata": {
        "id": "oZPmoqqTk3Nu"
      },
      "source": [
        "print('Hello')"
      ],
      "execution_count": null,
      "outputs": []
    },
    {
      "cell_type": "code",
      "metadata": {
        "id": "EkTKpeQ4lSOq"
      },
      "source": [
        "import pandas as pd\n",
        "\n",
        "california_path='/content/sample_data/california_housing_test.csv'\n",
        "\n",
        "df = pd.read_csv(california_path)\n",
        "\n",
        "df.describe()"
      ],
      "execution_count": null,
      "outputs": []
    },
    {
      "cell_type": "code",
      "metadata": {
        "id": "XNurfHaZnyLa"
      },
      "source": [
        "df.info()"
      ],
      "execution_count": null,
      "outputs": []
    },
    {
      "cell_type": "code",
      "metadata": {
        "id": "PjVshQ0VpKU8"
      },
      "source": [
        "import matplotlib.pyplot as plt\n",
        "plt.plot(df.total_bedrooms, df['median_house_value'])\n",
        "plt.title('california housing')\n",
        "plt.xlabel('Label/ Output/ Target')\n",
        "plt.ylabel('features')\n"
      ],
      "execution_count": null,
      "outputs": []
    },
    {
      "cell_type": "code",
      "metadata": {
        "id": "W3bksjtuu-Cx"
      },
      "source": [
        "fig, axs = plt.subplots(4,sharex=True)\n",
        "fig.suptitle('california housing')\n",
        "fig.show()"
      ],
      "execution_count": null,
      "outputs": []
    },
    {
      "cell_type": "code",
      "metadata": {
        "id": "HvSXqJod9azP"
      },
      "source": [
        ""
      ],
      "execution_count": null,
      "outputs": []
    }
  ]
}