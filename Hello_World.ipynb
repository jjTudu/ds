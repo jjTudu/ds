{
  "nbformat": 4,
  "nbformat_minor": 0,
  "metadata": {
    "colab": {
      "name": "Hello World.ipynb",
      "private_outputs": true,
      "provenance": [],
      "collapsed_sections": [],
      "authorship_tag": "ABX9TyNw0Moq1h/FdxzQ4KYAiCZd",
      "include_colab_link": true
    },
    "kernelspec": {
      "name": "python3",
      "display_name": "Python 3"
    },
    "language_info": {
      "name": "python"
    }
  },
  "cells": [
    {
      "cell_type": "markdown",
      "metadata": {
        "id": "view-in-github",
        "colab_type": "text"
      },
      "source": [
        "<a href=\"https://colab.research.google.com/github/jjTudu/ds/blob/main/Hello_World.ipynb\" target=\"_parent\"><img src=\"https://colab.research.google.com/assets/colab-badge.svg\" alt=\"Open In Colab\"/></a>"
      ]
    },
    {
      "cell_type": "code",
      "metadata": {
        "id": "oZPmoqqTk3Nu"
      },
      "source": [
        "print('Hello')"
      ],
      "execution_count": null,
      "outputs": []
    },
    {
      "cell_type": "code",
      "metadata": {
        "id": "EkTKpeQ4lSOq"
      },
      "source": [
        "import pandas as pd\n",
        "\n",
        "california_path='/content/sample_data/california_housing_test.csv'\n",
        "\n",
        "df = pd.read_csv(california_path)\n",
        "\n",
        "df.describe()"
      ],
      "execution_count": null,
      "outputs": []
    },
    {
      "cell_type": "code",
      "metadata": {
        "id": "XNurfHaZnyLa"
      },
      "source": [
        "df.info()"
      ],
      "execution_count": null,
      "outputs": []
    },
    {
      "cell_type": "code",
      "metadata": {
        "id": "PjVshQ0VpKU8"
      },
      "source": [
        "import matplotlib.pyplot as plt\n",
        "plt.plot(df.total_bedrooms, df['median_house_value'])\n",
        "plt.title('california housing')\n",
        "plt.xlabel('Label/ Output/ Target')\n",
        "plt.ylabel('features')\n"
      ],
      "execution_count": null,
      "outputs": []
    },
    {
      "cell_type": "code",
      "metadata": {
        "id": "W3bksjtuu-Cx"
      },
      "source": [
        "fig, axs = plt.subplots(4,sharex=True)\n",
        "fig.suptitle('california housing')\n",
        "axs[0].plot(df.total_bedrooms,df.median_house_value)\n",
        "axs[1].plot(df.total_rooms,df.median_house_value)\n",
        "axs[2].plot(df.housing_median_age,df.median_house_value)\n",
        "axs[3].plot(df.median_income,df.median_house_value)\n",
        "fig.show()"
      ],
      "execution_count": null,
      "outputs": []
    },
    {
      "cell_type": "code",
      "metadata": {
        "id": "HvSXqJod9azP"
      },
      "source": [
        "figall, axss=plt.subplots(len(df.columns))\n",
        "print('total column are',len(df.columns))\n",
        "figall.suptitle('All housing california graphs')\n",
        "for ind, col in enumerate(df.columns):\n",
        "  if ind>1:\n",
        "    print(col, ind)\n",
        "    axss[ind].plot(col, df.median_house_value)\n",
        "  figall.show()\n",
        "   "
      ],
      "execution_count": null,
      "outputs": []
    },
    {
      "cell_type": "code",
      "metadata": {
        "id": "RqGdg04G_WTh"
      },
      "source": [
        ""
      ],
      "execution_count": null,
      "outputs": []
    }
  ]
}