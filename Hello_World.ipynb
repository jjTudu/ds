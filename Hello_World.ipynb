{
  "nbformat": 4,
  "nbformat_minor": 0,
  "metadata": {
    "colab": {
      "name": "Hello World.ipynb",
      "private_outputs": true,
      "provenance": [],
      "collapsed_sections": [],
      "authorship_tag": "ABX9TyMCZ+LJG6Y3k2dt/5EOet2b",
      "include_colab_link": true
    },
    "kernelspec": {
      "name": "python3",
      "display_name": "Python 3"
    },
    "language_info": {
      "name": "python"
    }
  },
  "cells": [
    {
      "cell_type": "markdown",
      "metadata": {
        "id": "view-in-github",
        "colab_type": "text"
      },
      "source": [
        "<a href=\"https://colab.research.google.com/github/jjTudu/ds/blob/main/Hello_World.ipynb\" target=\"_parent\"><img src=\"https://colab.research.google.com/assets/colab-badge.svg\" alt=\"Open In Colab\"/></a>"
      ]
    },
    {
      "cell_type": "code",
      "metadata": {
        "id": "oZPmoqqTk3Nu"
      },
      "source": [
        "print('Hello')"
      ],
      "execution_count": null,
      "outputs": []
    },
    {
      "cell_type": "code",
      "metadata": {
        "id": "EkTKpeQ4lSOq"
      },
      "source": [
        "import pandas as pd\n",
        "\n",
        "california_path='/content/sample_data/california_housing_test.csv'\n",
        "\n",
        "df = pd.read_csv(california_path)\n",
        "\n",
        "df.describe()"
      ],
      "execution_count": null,
      "outputs": []
    },
    {
      "cell_type": "code",
      "metadata": {
        "id": "XNurfHaZnyLa"
      },
      "source": [
        "df.info()"
      ],
      "execution_count": null,
      "outputs": []
    },
    {
      "cell_type": "code",
      "metadata": {
        "id": "PjVshQ0VpKU8"
      },
      "source": [
        "import matplotlib.pyplot as plt\n",
        "plt.plot(df.total_bedrooms, df['median_house_value'])\n",
        "plt.title('california housing')\n",
        "plt.xlabel('Label/ Output/ Target')\n",
        "plt.ylabel('features')\n"
      ],
      "execution_count": null,
      "outputs": []
    },
    {
      "cell_type": "code",
      "metadata": {
        "id": "W3bksjtuu-Cx"
      },
      "source": [
        "fig, axs = plt.subplots(4,sharex=True)\n",
        "fig.suptitle('california housing')\n",
        "axs[0].plot(df.total_bedrooms,df.median_house_value)\n",
        "axs[1].plot(df.total_rooms,df.median_house_value)\n",
        "axs[2].plot(df.housing_median_age,df.median_house_value)\n",
        "axs[3].plot(df.median_income,df.median_house_value)\n",
        "fig.show()"
      ],
      "execution_count": null,
      "outputs": []
    },
    {
      "cell_type": "code",
      "metadata": {
        "id": "HvSXqJod9azP"
      },
      "source": [
        " \n",
        "figall, axss=plt.subplots(len(df.columns)-3, figsize=(15,40))\n",
        "print('total column are',len(df.columns))\n",
        "figall.suptitle('All housing california graphs')\n",
        "\n",
        "for ind, col in enumerate(df.columns):\n",
        "  if ind<6:\n",
        "    #print(col, ind)\n",
        "    axss[ind].plot(df[col], df.median_house_value)\n",
        "\n",
        "figall.show()\n",
        "   "
      ],
      "execution_count": null,
      "outputs": []
    },
    {
      "cell_type": "code",
      "metadata": {
        "id": "RqGdg04G_WTh"
      },
      "source": [
        ""
      ],
      "execution_count": null,
      "outputs": []
    }
  ]
}